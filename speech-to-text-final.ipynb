{
 "cells": [
  {
   "cell_type": "code",
   "execution_count": 19,
   "metadata": {
    "scrolled": false
   },
   "outputs": [],
   "source": [
    "import argparse\n",
    "import os\n",
    "speech_folder='/Users/iqra/Desktop/folder'\n",
    "from google.cloud.speech_v1p1beta1 import types\n",
    "from google.cloud import speech_v1p1beta1 as speech\n",
    "types.RecognitionConfig.AudioEncoding.FLAC\n",
    "import wave\n",
    "from pydub import AudioSegment\n",
    "import re\n",
    "import ffmpeg\n",
    "ffmpeg_path = \"/usr/local/bin\"\n",
    "os.environ[\"PATH\"] += os.pathsep + ffmpeg_path\n",
    "\"\"\"for adjusting frame rate\"\"\"\n",
    "frame_rate=8000"
   ]
  },
  {
   "cell_type": "code",
   "execution_count": 20,
   "metadata": {},
   "outputs": [],
   "source": [
    "# [START speech_transcribe_sync]\n",
    "def transcribe_file(speech_file):\n",
    "    \"\"\"Transcribe the given audio file.\"\"\"\n",
    "    from google.cloud import speech\n",
    "    import io\n",
    "    os.environ[\"GOOGLE_APPLICATION_CREDENTIALS\"]=\"/Users/iqra/Downloads/hollohk-308819-7ba32dd5db3b.json\"\n",
    "    client = speech.SpeechClient()\n",
    "\n",
    "    # [START speech_python_migration_sync_request]\n",
    "    # [START speech_python_migration_config]\n",
    "    with io.open(speech_file, \"rb\") as audio_file:\n",
    "        content = audio_file.read()\n",
    "\n",
    "    audio = speech.RecognitionAudio(content=content)\n",
    "    config = speech.RecognitionConfig(\n",
    "        encoding=speech.RecognitionConfig.AudioEncoding.LINEAR16,\n",
    "        language_code=\"en-US\",\n",
    "        enable_word_time_offsets=True,\n",
    "        sample_rate_hertz= frame_rate\n",
    "    )\n",
    "    # [END speech_python_migration_config]\n",
    "\n",
    "    # [START speech_python_migration_sync_response]\n",
    "    response = client.recognize(config=config, audio=audio)\n",
    "    for result in response.results:\n",
    "        best_alternative = result.alternatives[0]\n",
    "        transcript = best_alternative.transcript\n",
    "        confidence = best_alternative.confidence\n",
    "        print(\"-\" * 80)\n",
    "        print(f\"Transcript: {transcript}\")\n",
    "        print(f\"Confidence: {confidence:.0%}\")\n",
    "        \n",
    "        ##uncomment out the next section to get word timestsamps\n",
    "        \"\"\"\n",
    "        for word_info in best_alternative.words:\n",
    "            word = word_info.word\n",
    "            start_time = word_info.start_time\n",
    "            end_time = word_info.end_time\n",
    "\n",
    "            print(\n",
    "                f\"Word: {word}, start_time: {start_time.total_seconds()}, end_time: {end_time.total_seconds()}\"\n",
    "            )\n",
    "         \"\"\"\n",
    "\n",
    "    # [END speech_python_migration_sync_response]\n",
    "\n",
    "\n",
    "# [END speech_transcribe_sync]"
   ]
  },
  {
   "cell_type": "code",
   "execution_count": 21,
   "metadata": {},
   "outputs": [],
   "source": [
    "def mp3_to_raw(audio_file_name):\n",
    "    if audio_file_name.split('.')[1] == 'mp3':    \n",
    "        sound = AudioSegment.from_mp3(audio_file_name)\n",
    "        audio_file_name = audio_file_name.split('.')[0] + 'wav'\n",
    "        sound.export(audio_file_name, format=\"wav\")"
   ]
  },
  {
   "cell_type": "code",
   "execution_count": 22,
   "metadata": {},
   "outputs": [],
   "source": [
    "def mp4_to_raw(filename):\n",
    "    print(\"mp4\")"
   ]
  },
  {
   "cell_type": "code",
   "execution_count": 23,
   "metadata": {},
   "outputs": [],
   "source": [
    "def stereo_to_mono(audio_file_name):\n",
    "    sound = AudioSegment.from_wav(audio_file_name)\n",
    "    sound = sound.set_channels(1)\n",
    "    sound.export(audio_file_name, format=\"wav\")"
   ]
  },
  {
   "cell_type": "code",
   "execution_count": 18,
   "metadata": {
    "scrolled": true
   },
   "outputs": [
    {
     "name": "stdout",
     "output_type": "stream",
     "text": [
      "--------------------------------------------------------------------------------\n",
      "Transcript: Perhaps this is what gives the aborigine his honor of dignity turbulent times Rose as much as 50 feet in the choreographer must arbitrate to did not however settle back into acquia Sims with things as they were he finds it in error misery and desolation, ironically enough and this instant such personal virtues were a luxury who other cases also we're under advisement say he is the Horsethief runs and ohh at it. He may have a point in urging that deck and themes be given 4 prizes the straight line would symbolize. It's uniqueness The Circle at universe ality. So small hole in bowl with Clay. It has multiple implications and possible headaches for marketing program do manufacture of taking initiative in point. The other costs involved purpose overlapping twisted or widely space teeth. Do you always navigate like this?\n",
      "Confidence: 66%\n"
     ]
    }
   ],
   "source": [
    "from pydub import AudioSegment\n",
    "\n",
    "\n",
    "def main():\n",
    "    \n",
    "    for filename in os.listdir(speech_folder):\n",
    "        file=speech_folder+'/'+filename\n",
    "        from pydub import AudioSegment\n",
    "        sound = AudioSegment.from_wav(\"/Users/iqra/Desktop/folder/m.wav\")\n",
    "        sound = sound.set_channels(1)\n",
    "sound.export(\"/Users/iqra/Desktop/folder/m.wav\", format=\"wav\")\n",
    "\n",
    "\n",
    "        \"\"\"\n",
    "        if file.endswith(\".mp3\"):\n",
    "            \n",
    "            sound = AudioSegment.from_mp3(file)\n",
    "            file = file.split('.')[0] + '.wav'\n",
    "            sound.export(file, format=\"wav\")\n",
    "            print(\"done converting\")\n",
    "        \n",
    "        \n",
    "        file=stereo_to_mono(file)\n",
    "        \"\"\"\n",
    "        transcribe_file(file)\n",
    "\n",
    "main()"
   ]
  },
  {
   "cell_type": "code",
   "execution_count": null,
   "metadata": {},
   "outputs": [],
   "source": []
  }
 ],
 "metadata": {
  "kernelspec": {
   "display_name": "Python 3",
   "language": "python",
   "name": "python3"
  },
  "language_info": {
   "codemirror_mode": {
    "name": "ipython",
    "version": 3
   },
   "file_extension": ".py",
   "mimetype": "text/x-python",
   "name": "python",
   "nbconvert_exporter": "python",
   "pygments_lexer": "ipython3",
   "version": "3.8.3"
  }
 },
 "nbformat": 4,
 "nbformat_minor": 4
}
